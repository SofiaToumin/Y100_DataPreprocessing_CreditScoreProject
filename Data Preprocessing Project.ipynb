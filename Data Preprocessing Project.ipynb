{
 "cells": [
  {
   "cell_type": "markdown",
   "metadata": {},
   "source": [
    "# Data Preprocessing Project"
   ]
  },
  {
   "cell_type": "markdown",
   "metadata": {},
   "source": [
    "## Analyzing borrowers’ risk of defaulting\n",
    "\n",
    "Your project is to prepare a report for a bank’s loan division. You’ll need to find out if a customer’s marital status and number of children has an impact on whether they will default on a loan. The bank already has some data on customers’ credit worthiness.\n",
    "\n",
    "Your report will be considered when building a **credit scoring** of a potential customer. A ** credit scoring ** is used to evaluate the ability of a potential borrower to repay their loan."
   ]
  },
  {
   "cell_type": "markdown",
   "metadata": {},
   "source": [
    "<div id=\"table\"></div>\n",
    "\n",
    "### Table of contents:\n",
    "\n",
    "1. [Open the data file and have a look at the general information.](#point1) \n",
    "2. [Data preprocessing](#point2) <br>\n",
    "    2.1. [Processing missing values](#point2_1) <br>\n",
    "    2.2. [Data type replacement](#point2_2) <br>\n",
    "    2.3. [Processing duplicates](#point2_3) <br>\n",
    "    2.4. [Categorizing data](#point2_4) <br>\n",
    "3. [Answer these questions:](#point3) <br>\n",
    "    3.1. [Is there a relation between having kids and repaying a loan on time?](#point3_1) <br>\n",
    "    3.2. [Is there a relation between marital status and repaying a loan on time?](#point3_2) <br>\n",
    "    3.3. [Is there a relation between income level and repaying a loan on time?](#point3_3) <br>\n",
    "    3.4. [How do different loan purposes affect on-time repayment of the loan?](#point3_4) <br>\n",
    "4. [General conclusion](#point4)"
   ]
  },
  {
   "cell_type": "markdown",
   "metadata": {},
   "source": [
    "<a id=\"point1\"></a>\n",
    "### Open the data file and have a look at the general information. "
   ]
  },
  {
   "cell_type": "code",
   "execution_count": 1,
   "metadata": {},
   "outputs": [],
   "source": [
    "import pandas as pd\n",
    "import numpy as np\n",
    "import nltk\n",
    "from nltk.stem import WordNetLemmatizer\n",
    "from collections import Counter"
   ]
  },
  {
   "cell_type": "code",
   "execution_count": 3,
   "metadata": {},
   "outputs": [
    {
     "name": "stdout",
     "output_type": "stream",
     "text": [
      "<class 'pandas.core.frame.DataFrame'>\n",
      "RangeIndex: 21525 entries, 0 to 21524\n",
      "Data columns (total 12 columns):\n",
      "children            21525 non-null int64\n",
      "days_employed       19351 non-null float64\n",
      "age                 21525 non-null int64\n",
      "education           21525 non-null object\n",
      "education_id        21525 non-null int64\n",
      "family_status       21525 non-null object\n",
      "family_status_id    21525 non-null int64\n",
      "gender              21525 non-null object\n",
      "income_type         21525 non-null object\n",
      "debt                21525 non-null int64\n",
      "total_income        19351 non-null float64\n",
      "purpose             21525 non-null object\n",
      "dtypes: float64(2), int64(5), object(5)\n",
      "memory usage: 2.0+ MB\n"
     ]
    }
   ],
   "source": [
    "#downloading data, changing column names, checking general info\n",
    "data = pd.read_csv('/datasets/credit_scoring_eng.csv')\n",
    "new_column_names = ['children', 'days_employed', 'age', 'education', 'education_id', 'family_status', 'family_status_id', 'gender', 'income_type', 'debt', 'total_income', 'purpose']\n",
    "data.set_axis(new_column_names, axis='columns', inplace=True) \n",
    "data.info()"
   ]
  },
  {
   "cell_type": "markdown",
   "metadata": {},
   "source": [
    "We import the libraries we will be working with. We change the names of the column 'dob_years' to 'age' so it's easier to understand what values are there. Data types look OK, exept for 'days_employed' column, we'll change it to 'int' later. We also see there are missing values in 'days_employed' and 'total_income' columns, a lot for 'retiree' income type, but also in another income types."
   ]
  },
  {
   "cell_type": "markdown",
   "metadata": {},
   "source": [
    "<a id=\"point2\"></a>\n",
    "### Data preprocessing"
   ]
  },
  {
   "cell_type": "markdown",
   "metadata": {},
   "source": [
    "<a id=\"point2_1\"></a>\n",
    "#### Processing missing values"
   ]
  },
  {
   "cell_type": "code",
   "execution_count": 4,
   "metadata": {},
   "outputs": [],
   "source": [
    "#replacing wrong numbers (-1 kids, 20 kids)\n",
    "data['children'] = data['children'].replace({-1:1, 20:2})"
   ]
  },
  {
   "cell_type": "code",
   "execution_count": 5,
   "metadata": {},
   "outputs": [],
   "source": [
    "#filling missing values, replacing too big values with mean\n",
    "data['days_employed'] = data['days_employed'].abs()\n",
    "data['days_employed'] = data['days_employed'].fillna(value=0) \n",
    "days_employed_real = data['days_employed'] <= 15660\n",
    "days_employed_mean = data.loc[days_employed_real, 'days_employed'].mean()\n",
    "data.loc[data['days_employed'] > 15660, 'days_employed'] = days_employed_mean"
   ]
  },
  {
   "cell_type": "code",
   "execution_count": 6,
   "metadata": {},
   "outputs": [],
   "source": [
    "#creating new column \"years_employed\" from \"days_employed\"\n",
    "data['years_employed'] = data['days_employed'] / 261 "
   ]
  },
  {
   "cell_type": "code",
   "execution_count": 7,
   "metadata": {},
   "outputs": [],
   "source": [
    "#replacing 0 with mean age\n",
    "age_mean = int(data['age'].mean())\n",
    "data['age'] = data['age'].replace(0, age_mean)"
   ]
  },
  {
   "cell_type": "code",
   "execution_count": 8,
   "metadata": {},
   "outputs": [
    {
     "data": {
      "text/plain": [
       "1    15233\n",
       "0     5260\n",
       "2      744\n",
       "3      282\n",
       "4        6\n",
       "Name: education_id, dtype: int64"
      ]
     },
     "execution_count": 8,
     "metadata": {},
     "output_type": "execute_result"
    }
   ],
   "source": [
    "#checking education values\n",
    "data['education'] = data['education'].str.lower() \n",
    "data['education_id'].value_counts()"
   ]
  },
  {
   "cell_type": "code",
   "execution_count": 9,
   "metadata": {},
   "outputs": [
    {
     "data": {
      "text/plain": [
       "0    12380\n",
       "1     4177\n",
       "4     2813\n",
       "3     1195\n",
       "2      960\n",
       "Name: family_status_id, dtype: int64"
      ]
     },
     "execution_count": 9,
     "metadata": {},
     "output_type": "execute_result"
    }
   ],
   "source": [
    "#checking family status values\n",
    "data['family_status'].value_counts()\n",
    "data['family_status_id'].value_counts()"
   ]
  },
  {
   "cell_type": "code",
   "execution_count": 10,
   "metadata": {},
   "outputs": [],
   "source": [
    "#replacing values in \"gender\" column\n",
    "data['gender'].value_counts() \n",
    "data = data.drop(data[data['gender'] == 'XNA'].index)"
   ]
  },
  {
   "cell_type": "code",
   "execution_count": 11,
   "metadata": {},
   "outputs": [
    {
     "data": {
      "text/plain": [
       "employee         11119\n",
       "business          5084\n",
       "retiree           3856\n",
       "civil servant     1459\n",
       "Name: income_type, dtype: int64"
      ]
     },
     "execution_count": 11,
     "metadata": {},
     "output_type": "execute_result"
    }
   ],
   "source": [
    "#checking and replacing income type values\n",
    "data['income_type'].value_counts()\n",
    "data.drop(data[data['income_type'].isin(['entrepreneur','unemployed','student','paternity / maternity leave'])].index, inplace=True)\n",
    "data['income_type'].value_counts()"
   ]
  },
  {
   "cell_type": "code",
   "execution_count": null,
   "metadata": {},
   "outputs": [],
   "source": [
    "#creating new column \"annual income\" based on grouping by education type\n",
    "data['total_income'].value_counts()\n",
    "annual_income_mean = data.groupby('education')['total_income'].mean()\n",
    "data['annual_income'] = data.groupby('education')['total_income'].transform(lambda grp: grp.fillna(np.mean(grp)))"
   ]
  },
  {
   "cell_type": "code",
   "execution_count": 12,
   "metadata": {},
   "outputs": [
    {
     "name": "stdout",
     "output_type": "stream",
     "text": [
      "<class 'pandas.core.frame.DataFrame'>\n",
      "Int64Index: 21518 entries, 0 to 21524\n",
      "Data columns (total 14 columns):\n",
      "children            21518 non-null int64\n",
      "days_employed       21518 non-null float64\n",
      "age                 21518 non-null int64\n",
      "education           21518 non-null object\n",
      "education_id        21518 non-null int64\n",
      "family_status       21518 non-null object\n",
      "family_status_id    21518 non-null int64\n",
      "gender              21518 non-null object\n",
      "income_type         21518 non-null object\n",
      "debt                21518 non-null int64\n",
      "total_income        19345 non-null float64\n",
      "purpose             21518 non-null object\n",
      "years_employed      21518 non-null float64\n",
      "annual_income       21518 non-null float64\n",
      "dtypes: float64(4), int64(5), object(5)\n",
      "memory usage: 2.5+ MB\n"
     ]
    }
   ],
   "source": [
    "data.info()"
   ]
  },
  {
   "cell_type": "markdown",
   "metadata": {},
   "source": [
    "Let's check all the columns one after another. In 'children' column we see range from 0 to 5 children, and then suddenly 47 families with 20 children, but no families with 6, 7, 10 or 15 - so we assume it's a typo and change it to 2. There also can't be negative number of children, so we change -1 to 1.\n",
    "\n",
    "In the 'days_employed' column we have negative numbers, so we change it to positive. There are also values missing, so we fill them with 0. Also about 10% of the data is corrupted - the numbers are too big to be true, maybe there's a problem with a floating point. Meanwhile we'll replace corrupted data with mean value (mean value for the column without the exaggerated numbers). I wish I coulld investigate this column further but it's the best I can do for now. \n",
    "\n",
    "We add new column 'years_employed' by dividing 'days_employed' by mean number of working days in a year, but actually we need this column only so it's easier to understand then number of days.\n",
    "\n",
    "In the 'age' column we change 0 to mean_value, since there cannot be customers 0 years old. \n",
    "\n",
    "In 'education' column we just need to change characters to low case, and then check that we have 5 categories, and also 5 categories in the 'education_id' column, and the numbers are identical. \n",
    "\n",
    "In 'family_status' and 'family_status_id' columns numbers are also identical so we leave it as it is.\n",
    "\n",
    "In 'gender' column we have 1 row with \"XNA\" value, so we just drop the row. \n",
    "\n",
    "In the 'income_type' column we have few values that only appear in 1-2 rows, so we might just drop them without affecting the overall statistics. In the 'total_income' column we have missing values, we will fill them with mean annual income for each group based on education level so we made a new column 'annual_income' we will be working with.\n",
    "\n",
    "The data looks much cleaner. Putting it in order took me a lot of time and effort, I managed to drop only 7 rows, so it won't affect the overall statistics. Unfortunately, I have no idea how to explain those artifacts in 'days_employed' column. Is it a problem with floating point? I wish I was more experienced so that I could investigate it properly."
   ]
  },
  {
   "cell_type": "markdown",
   "metadata": {},
   "source": [
    "<a id=\"point2_2\"></a>\n",
    "#### Data type replacement"
   ]
  },
  {
   "cell_type": "code",
   "execution_count": 13,
   "metadata": {},
   "outputs": [
    {
     "name": "stdout",
     "output_type": "stream",
     "text": [
      "<class 'pandas.core.frame.DataFrame'>\n",
      "Int64Index: 21518 entries, 0 to 21524\n",
      "Data columns (total 14 columns):\n",
      "children            21518 non-null int64\n",
      "days_employed       21518 non-null int64\n",
      "age                 21518 non-null int64\n",
      "education           21518 non-null object\n",
      "education_id        21518 non-null int64\n",
      "family_status       21518 non-null object\n",
      "family_status_id    21518 non-null int64\n",
      "gender              21518 non-null object\n",
      "income_type         21518 non-null object\n",
      "debt                21518 non-null int64\n",
      "total_income        19345 non-null float64\n",
      "purpose             21518 non-null object\n",
      "years_employed      21518 non-null float64\n",
      "annual_income       21518 non-null int64\n",
      "dtypes: float64(2), int64(7), object(5)\n",
      "memory usage: 2.5+ MB\n"
     ]
    }
   ],
   "source": [
    "columns=['days_employed', 'annual_income']\n",
    "data[columns] = data[columns].astype('int')\n",
    "\n",
    "data.info()"
   ]
  },
  {
   "cell_type": "markdown",
   "metadata": {},
   "source": [
    "Now the data looks even prettier. I changed 'days_employed' data type since half of the day doesn't make sense and it's easier to work with integer numbers. Same for annual income, half of the dollar doesn't really make a difference."
   ]
  },
  {
   "cell_type": "markdown",
   "metadata": {},
   "source": [
    "<a id=\"point2_3\"></a>\n",
    "#### Processing duplicates"
   ]
  },
  {
   "cell_type": "code",
   "execution_count": 14,
   "metadata": {},
   "outputs": [],
   "source": [
    "data.duplicated().sum()\n",
    "data.drop_duplicates(inplace=True)"
   ]
  },
  {
   "cell_type": "markdown",
   "metadata": {},
   "source": [
    "There were only 54 duplicates so we can just drop them. I used this method because it's the only one I know but I have to say it feels too easy so I might be wrong."
   ]
  },
  {
   "cell_type": "markdown",
   "metadata": {},
   "source": [
    "<a id=\"point2_4\"></a>\n",
    "#### Categorizing data"
   ]
  },
  {
   "cell_type": "code",
   "execution_count": 15,
   "metadata": {},
   "outputs": [
    {
     "data": {
      "text/html": [
       "<div>\n",
       "<style scoped>\n",
       "    .dataframe tbody tr th:only-of-type {\n",
       "        vertical-align: middle;\n",
       "    }\n",
       "\n",
       "    .dataframe tbody tr th {\n",
       "        vertical-align: top;\n",
       "    }\n",
       "\n",
       "    .dataframe thead th {\n",
       "        text-align: right;\n",
       "    }\n",
       "</style>\n",
       "<table border=\"1\" class=\"dataframe\">\n",
       "  <thead>\n",
       "    <tr style=\"text-align: right;\">\n",
       "      <th></th>\n",
       "      <th>children</th>\n",
       "      <th>days_employed</th>\n",
       "      <th>age</th>\n",
       "      <th>education</th>\n",
       "      <th>education_id</th>\n",
       "      <th>family_status</th>\n",
       "      <th>family_status_id</th>\n",
       "      <th>gender</th>\n",
       "      <th>income_type</th>\n",
       "      <th>debt</th>\n",
       "      <th>total_income</th>\n",
       "      <th>purpose</th>\n",
       "      <th>years_employed</th>\n",
       "      <th>annual_income</th>\n",
       "      <th>income_category</th>\n",
       "    </tr>\n",
       "  </thead>\n",
       "  <tbody>\n",
       "    <tr>\n",
       "      <td>0</td>\n",
       "      <td>1</td>\n",
       "      <td>8437</td>\n",
       "      <td>42</td>\n",
       "      <td>bachelor's degree</td>\n",
       "      <td>0</td>\n",
       "      <td>married</td>\n",
       "      <td>0</td>\n",
       "      <td>F</td>\n",
       "      <td>employee</td>\n",
       "      <td>0</td>\n",
       "      <td>40620.102</td>\n",
       "      <td>purchase of the house</td>\n",
       "      <td>32.328249</td>\n",
       "      <td>40620</td>\n",
       "      <td>high</td>\n",
       "    </tr>\n",
       "    <tr>\n",
       "      <td>1</td>\n",
       "      <td>1</td>\n",
       "      <td>4024</td>\n",
       "      <td>36</td>\n",
       "      <td>secondary education</td>\n",
       "      <td>1</td>\n",
       "      <td>married</td>\n",
       "      <td>0</td>\n",
       "      <td>F</td>\n",
       "      <td>employee</td>\n",
       "      <td>0</td>\n",
       "      <td>17932.802</td>\n",
       "      <td>car purchase</td>\n",
       "      <td>15.420704</td>\n",
       "      <td>17932</td>\n",
       "      <td>middle</td>\n",
       "    </tr>\n",
       "    <tr>\n",
       "      <td>2</td>\n",
       "      <td>0</td>\n",
       "      <td>5623</td>\n",
       "      <td>33</td>\n",
       "      <td>secondary education</td>\n",
       "      <td>1</td>\n",
       "      <td>married</td>\n",
       "      <td>0</td>\n",
       "      <td>M</td>\n",
       "      <td>employee</td>\n",
       "      <td>0</td>\n",
       "      <td>23341.752</td>\n",
       "      <td>purchase of the house</td>\n",
       "      <td>21.545680</td>\n",
       "      <td>23341</td>\n",
       "      <td>middle</td>\n",
       "    </tr>\n",
       "    <tr>\n",
       "      <td>3</td>\n",
       "      <td>3</td>\n",
       "      <td>4124</td>\n",
       "      <td>32</td>\n",
       "      <td>secondary education</td>\n",
       "      <td>1</td>\n",
       "      <td>married</td>\n",
       "      <td>0</td>\n",
       "      <td>M</td>\n",
       "      <td>employee</td>\n",
       "      <td>0</td>\n",
       "      <td>42820.568</td>\n",
       "      <td>supplementary education</td>\n",
       "      <td>15.803629</td>\n",
       "      <td>42820</td>\n",
       "      <td>high</td>\n",
       "    </tr>\n",
       "    <tr>\n",
       "      <td>4</td>\n",
       "      <td>0</td>\n",
       "      <td>2063</td>\n",
       "      <td>53</td>\n",
       "      <td>secondary education</td>\n",
       "      <td>1</td>\n",
       "      <td>civil partnership</td>\n",
       "      <td>1</td>\n",
       "      <td>F</td>\n",
       "      <td>retiree</td>\n",
       "      <td>0</td>\n",
       "      <td>25378.572</td>\n",
       "      <td>to have a wedding</td>\n",
       "      <td>7.906792</td>\n",
       "      <td>25378</td>\n",
       "      <td>upper middle</td>\n",
       "    </tr>\n",
       "  </tbody>\n",
       "</table>\n",
       "</div>"
      ],
      "text/plain": [
       "   children  days_employed  age            education  education_id  \\\n",
       "0         1           8437   42    bachelor's degree             0   \n",
       "1         1           4024   36  secondary education             1   \n",
       "2         0           5623   33  secondary education             1   \n",
       "3         3           4124   32  secondary education             1   \n",
       "4         0           2063   53  secondary education             1   \n",
       "\n",
       "       family_status  family_status_id gender income_type  debt  total_income  \\\n",
       "0            married                 0      F    employee     0     40620.102   \n",
       "1            married                 0      F    employee     0     17932.802   \n",
       "2            married                 0      M    employee     0     23341.752   \n",
       "3            married                 0      M    employee     0     42820.568   \n",
       "4  civil partnership                 1      F     retiree     0     25378.572   \n",
       "\n",
       "                   purpose  years_employed  annual_income income_category  \n",
       "0    purchase of the house       32.328249          40620            high  \n",
       "1             car purchase       15.420704          17932          middle  \n",
       "2    purchase of the house       21.545680          23341          middle  \n",
       "3  supplementary education       15.803629          42820            high  \n",
       "4        to have a wedding        7.906792          25378    upper middle  "
      ]
     },
     "execution_count": 15,
     "metadata": {},
     "output_type": "execute_result"
    }
   ],
   "source": [
    "#creating differentiation based on annual income\n",
    "data['annual_income'].describe()\n",
    "\n",
    "def sort_annual_income(income):\n",
    "    if income < desc['25%']:\n",
    "        return 'poverty'\n",
    "    if income < desc['50%']:\n",
    "        return 'low'\n",
    "    if income < desc['75%']:\n",
    "        return 'middle'\n",
    "    else:\n",
    "        return 'high'\n",
    "    \n",
    "data['income_category'] = data['annual_income'].apply(sort_annual_income)\n",
    "data['income_category'].value_counts()\n",
    "data.head()"
   ]
  },
  {
   "cell_type": "code",
   "execution_count": 42,
   "metadata": {},
   "outputs": [
    {
     "name": "stdout",
     "output_type": "stream",
     "text": [
      "             word  count\n",
      "0               a   5103\n",
      "1            real   4462\n",
      "2          estate   4462\n",
      "3             car   4305\n",
      "4        purchase   3306\n",
      "5       education   3109\n",
      "6              to   3064\n",
      "7              of   2993\n",
      "8     transaction   2604\n",
      "9        property   2536\n",
      "10             my   2390\n",
      "11            buy   2357\n",
      "12        wedding   2323\n",
      "13            own   2237\n",
      "14          house   1904\n",
      "15        housing   1904\n",
      "16         buying   1633\n",
      "17     commercial   1311\n",
      "18            for   1288\n",
      "19            the   1284\n",
      "20           with   1277\n",
      "21       building   1243\n",
      "22    second-hand    964\n",
      "23     university    948\n",
      "24  supplementary    906\n",
      "25        getting    868\n",
      "26       ceremony    791\n",
      "27         having    767\n",
      "28           have    765\n",
      "29        renting    650\n",
      "30            out    650\n",
      "31         family    638\n",
      "32   construction    634\n",
      "33     renovation    606\n",
      "34    residential    605\n",
      "35          going    496\n",
      "36            get    446\n",
      "37             an    442\n",
      "38        profile    436\n",
      "39         higher    426\n",
      "40         become    408\n",
      "41       educated    408\n"
     ]
    }
   ],
   "source": [
    "#lemmatizing \"purpose\" column to define most popular purposes\n",
    "wordnet_lemma = WordNetLemmatizer()\n",
    "\n",
    "def lemmatize_text(text):\n",
    "    words = nltk.word_tokenize(text)\n",
    "    return [wordnet_lemma.lemmatize(w, pos = 'n') for w in words]\n",
    "\n",
    "data['lemmas'] = data['purpose'].apply(lemmatize_text)\n",
    "\n",
    "data['lemmas'].value_counts()\n",
    "\n",
    "words_list = []\n",
    "for x in data['lemmas']:\n",
    "    for w in x:\n",
    "        words_list.append(w)\n",
    "        \n",
    "words_list_counted = Counter(words_list)\n",
    "words_frequency = pd.DataFrame.from_records(words_list_counted.most_common(), columns=['word','count'])\n",
    "print(words_frequency)"
   ]
  },
  {
   "cell_type": "code",
   "execution_count": 49,
   "metadata": {},
   "outputs": [
    {
     "data": {
      "text/plain": [
       "income_category  purpose_category \n",
       "high             personal property    1440\n",
       "                 real property        1292\n",
       "                 car                  1092\n",
       "                 education             963\n",
       "                 wedding               585\n",
       "low              personal property    1414\n",
       "                 real property        1265\n",
       "                 car                  1049\n",
       "                 education            1047\n",
       "                 wedding               604\n",
       "middle           personal property    1302\n",
       "                 real property        1243\n",
       "                 car                  1077\n",
       "                 education             968\n",
       "                 wedding               547\n",
       "upper middle     personal property    1538\n",
       "                 real property        1312\n",
       "                 car                  1087\n",
       "                 education            1035\n",
       "                 wedding               587\n",
       "Name: purpose_category, dtype: int64"
      ]
     },
     "execution_count": 49,
     "metadata": {},
     "output_type": "execute_result"
    }
   ],
   "source": [
    "#creating new column with purpose category\n",
    "\n",
    "def purpose_category(element):\n",
    "    if 'estate' in element or 'out' in element:\n",
    "        element = 'real property'\n",
    "    elif ('housing' in element or 'house' in element or 'construction' in element or 'property' in element) & ('renting' not in element):\n",
    "        element = 'personal property'\n",
    "    elif 'university' in element or 'education' in element or 'educated' in element:\n",
    "        element = 'education'\n",
    "    elif 'wedding' in element:\n",
    "        element = 'wedding'\n",
    "    elif 'car' in element:\n",
    "        element = 'car'\n",
    "    return element\n",
    "    \n",
    "data['purpose_category'] = data['lemmas'].apply(purpose_category)\n",
    "\n",
    "data.groupby('income_category')['purpose_category'].value_counts()"
   ]
  },
  {
   "cell_type": "markdown",
   "metadata": {},
   "source": [
    "We make a new column with income category based on annual income - from low to high. We used the describe() method to group the data according to quartile.\n",
    "\n",
    "I checked the lemmatized purposes with values_counts() method, but they are still not in the order.I made a nested loop to put all the lemmas in one list, so I could use a Counter. Then I turned Counter output to a new DataFrame, already sorted. Now we can see which categories we should create.\n",
    "\n",
    "If there's 'car' in a list - then it goes to 'car' category, same with wedding. For 'education' category key words are 'education', 'educated' and 'university'. Property category for me divides in two: personal and commercial. For personal key words are 'house', 'housing', 'construction' or 'property' without 'renting' since we have 'property for renting out' purpose, which is commercial. Real property's key words are 'estate' and 'out', which I added for the 'buying property for renting out' purpose. I didn't use key word 'buying' because it also shows up in 'buying my own car' purpose.\n"
   ]
  },
  {
   "cell_type": "markdown",
   "metadata": {},
   "source": [
    "<a id=\"point3\"></a>\n",
    "### Answer these questions:"
   ]
  },
  {
   "cell_type": "markdown",
   "metadata": {},
   "source": [
    "<a id=\"point3_1\"></a>\n",
    "#### Is there a relation between having kids and repaying a loan on time?"
   ]
  },
  {
   "cell_type": "code",
   "execution_count": 17,
   "metadata": {},
   "outputs": [
    {
     "data": {
      "text/plain": [
       "children\n",
       "0    7.546500\n",
       "1    9.147095\n",
       "2    9.449929\n",
       "3    8.181818\n",
       "4    9.756098\n",
       "5    0.000000\n",
       "Name: debt, dtype: float64"
      ]
     },
     "execution_count": 17,
     "metadata": {},
     "output_type": "execute_result"
    }
   ],
   "source": [
    "#children_correlation = (data.groupby('children')['debt'].sum()) / (data.groupby('children')['debt'].count() * 0.01)\n",
    "children_correlation = (data.groupby('children')['debt'].mean() * 100)\n",
    "children_correlation"
   ]
  },
  {
   "cell_type": "markdown",
   "metadata": {},
   "source": [
    "We see that default rate is lower (only 7.5%) for people without children, as for people with children - default rate is from 8.18% to 9.75%, so it doesn't really matter how many children you have - the chance that people with children won't repay loan on time is higher."
   ]
  },
  {
   "cell_type": "markdown",
   "metadata": {},
   "source": [
    "<a id=\"point3_2\"></a>\n",
    "#### Is there a relation between marital status and repaying a loan on time?"
   ]
  },
  {
   "cell_type": "code",
   "execution_count": 18,
   "metadata": {},
   "outputs": [
    {
     "data": {
      "text/plain": [
       "family_status\n",
       "civil partnership    9.353905\n",
       "divorced             7.112971\n",
       "married              7.530804\n",
       "unmarried            9.754361\n",
       "widow / widower      6.569343\n",
       "Name: debt, dtype: float64"
      ]
     },
     "execution_count": 18,
     "metadata": {},
     "output_type": "execute_result"
    }
   ],
   "source": [
    "#family_status_correlation = (data.groupby('family_status')['debt'].sum()) / (data.groupby('family_status')['debt'].count() * 0.01)\n",
    "family_status_correlation = data.groupby('family_status')['debt'].mean() * 100\n",
    "family_status_correlation"
   ]
  },
  {
   "cell_type": "markdown",
   "metadata": {},
   "source": [
    "We see that for people who never were married (unmarried and civil partnership) default rate is 9.75% and 9.35% meanwhile for married and divorced it's almost the same - 7.53% and 7.11%, and for widows and widowers it's even lower - only 6.56%. We can say that probably people who get married are more financially stable so that's why we see these numbers."
   ]
  },
  {
   "cell_type": "markdown",
   "metadata": {},
   "source": [
    "<a id=\"point3_3\"></a>\n",
    "#### Is there a relation between income level and repaying a loan on time?"
   ]
  },
  {
   "cell_type": "code",
   "execution_count": 19,
   "metadata": {},
   "outputs": [
    {
     "data": {
      "text/html": [
       "<div>\n",
       "<style scoped>\n",
       "    .dataframe tbody tr th:only-of-type {\n",
       "        vertical-align: middle;\n",
       "    }\n",
       "\n",
       "    .dataframe tbody tr th {\n",
       "        vertical-align: top;\n",
       "    }\n",
       "\n",
       "    .dataframe thead th {\n",
       "        text-align: right;\n",
       "    }\n",
       "</style>\n",
       "<table border=\"1\" class=\"dataframe\">\n",
       "  <thead>\n",
       "    <tr style=\"text-align: right;\">\n",
       "      <th></th>\n",
       "      <th>debt</th>\n",
       "    </tr>\n",
       "    <tr>\n",
       "      <th>income_category</th>\n",
       "      <th></th>\n",
       "    </tr>\n",
       "  </thead>\n",
       "  <tbody>\n",
       "    <tr>\n",
       "      <td>high</td>\n",
       "      <td>6.831720</td>\n",
       "    </tr>\n",
       "    <tr>\n",
       "      <td>low</td>\n",
       "      <td>7.901097</td>\n",
       "    </tr>\n",
       "    <tr>\n",
       "      <td>middle</td>\n",
       "      <td>8.837843</td>\n",
       "    </tr>\n",
       "    <tr>\n",
       "      <td>upper middle</td>\n",
       "      <td>8.868502</td>\n",
       "    </tr>\n",
       "  </tbody>\n",
       "</table>\n",
       "</div>"
      ],
      "text/plain": [
       "                     debt\n",
       "income_category          \n",
       "high             6.831720\n",
       "low              7.901097\n",
       "middle           8.837843\n",
       "upper middle     8.868502"
      ]
     },
     "execution_count": 19,
     "metadata": {},
     "output_type": "execute_result"
    }
   ],
   "source": [
    "#income_correlation = (data.groupby('income_category')['debt'].sum()) / (data.groupby('income_category')['debt'].count() * 0.01)\n",
    "income_correlation = data.pivot_table(index='income_category', values='debt') * 100\n",
    "income_correlation"
   ]
  },
  {
   "cell_type": "markdown",
   "metadata": {},
   "source": [
    "We see that people with low income have default rate of 7.9%, people with middle income - 8.83%, people with upper middle - 8.86% and people with high income - 6.8%. We  see relation, the higher is your income - the higher is the chance you will repay loan on time. As for people with low income - I guess when you do not have a lot of money - you have to be more responsible with it, so default rate is lower than for middle-class."
   ]
  },
  {
   "cell_type": "markdown",
   "metadata": {},
   "source": [
    "<a id=\"point3_4\"></a>\n",
    "#### How do different loan purposes affect on-time repayment of the loan?"
   ]
  },
  {
   "cell_type": "code",
   "execution_count": 20,
   "metadata": {},
   "outputs": [
    {
     "data": {
      "text/html": [
       "<div>\n",
       "<style scoped>\n",
       "    .dataframe tbody tr th:only-of-type {\n",
       "        vertical-align: middle;\n",
       "    }\n",
       "\n",
       "    .dataframe tbody tr th {\n",
       "        vertical-align: top;\n",
       "    }\n",
       "\n",
       "    .dataframe thead th {\n",
       "        text-align: right;\n",
       "    }\n",
       "</style>\n",
       "<table border=\"1\" class=\"dataframe\">\n",
       "  <thead>\n",
       "    <tr style=\"text-align: right;\">\n",
       "      <th></th>\n",
       "      <th>debt</th>\n",
       "    </tr>\n",
       "    <tr>\n",
       "      <th>purpose_category</th>\n",
       "      <th></th>\n",
       "    </tr>\n",
       "  </thead>\n",
       "  <tbody>\n",
       "    <tr>\n",
       "      <td>car</td>\n",
       "      <td>9.337979</td>\n",
       "    </tr>\n",
       "    <tr>\n",
       "      <td>education</td>\n",
       "      <td>9.220035</td>\n",
       "    </tr>\n",
       "    <tr>\n",
       "      <td>personal property</td>\n",
       "      <td>6.919564</td>\n",
       "    </tr>\n",
       "    <tr>\n",
       "      <td>real property</td>\n",
       "      <td>7.570423</td>\n",
       "    </tr>\n",
       "    <tr>\n",
       "      <td>wedding</td>\n",
       "      <td>8.006888</td>\n",
       "    </tr>\n",
       "  </tbody>\n",
       "</table>\n",
       "</div>"
      ],
      "text/plain": [
       "                       debt\n",
       "purpose_category           \n",
       "car                9.337979\n",
       "education          9.220035\n",
       "personal property  6.919564\n",
       "real property      7.570423\n",
       "wedding            8.006888"
      ]
     },
     "execution_count": 20,
     "metadata": {},
     "output_type": "execute_result"
    }
   ],
   "source": [
    "#purpose_correlation = (data.groupby('purpose_category')['debt'].sum()) / (data.groupby('purpose_category')['debt'].count() * 0.01)\n",
    "purpose_correlation = data.pivot_table(index='purpose_category', values='debt') * 100\n",
    "purpose_correlation"
   ]
  },
  {
   "cell_type": "markdown",
   "metadata": {},
   "source": [
    "We see that personal property has the lowest default rate - 6.91% because it's very important and people do find way to repay money on time so that they have a place to live. Real property purpose has pretty low default rate (7.57%) which makes sence since it it commercial purpose. Wedding has a 8% default rate - i guess newly married couple gets some money as presents so it's easier to return. As for getting a car or an education - default rates are pretty much the same - 9.33% and 9.22% - i guess that not 100% of students finish their education and can repay sucessfully and as for car purpose - people who need loan to buy a car don't usually have a lot of money, other way they would just buy it, so chance that they won't pay on time is pretty high. "
   ]
  },
  {
   "cell_type": "markdown",
   "metadata": {},
   "source": [
    "<a id=\"point4\"></a>\n",
    "### General conclusion"
   ]
  },
  {
   "cell_type": "markdown",
   "metadata": {},
   "source": [
    "This is my first project ever of its kind. I am not very familiar with all these methods so I am sure I made a lot of mistakes and there are a lot of things I could do easier and better. I didn't really use 'income_type' column, i guess it can affect my conclusion. As for the numbers I got - I think it is pretty obvious that people without children have better chance to repay the loan on time, same with high income. "
   ]
  }
 ],
 "metadata": {
  "kernelspec": {
   "display_name": "Python 3",
   "language": "python",
   "name": "python3"
  },
  "language_info": {
   "codemirror_mode": {
    "name": "ipython",
    "version": 3
   },
   "file_extension": ".py",
   "mimetype": "text/x-python",
   "name": "python",
   "nbconvert_exporter": "python",
   "pygments_lexer": "ipython3",
   "version": "3.7.6"
  },
  "toc": {
   "base_numbering": 1,
   "nav_menu": {},
   "number_sections": true,
   "sideBar": true,
   "skip_h1_title": true,
   "title_cell": "Table of Contents",
   "title_sidebar": "Contents",
   "toc_cell": false,
   "toc_position": {},
   "toc_section_display": true,
   "toc_window_display": false
  }
 },
 "nbformat": 4,
 "nbformat_minor": 2
}
